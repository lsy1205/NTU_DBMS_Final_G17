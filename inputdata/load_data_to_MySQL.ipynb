{
 "cells": [
  {
   "cell_type": "markdown",
   "metadata": {},
   "source": [
    "# Load CSV Files Into MySQL Database"
   ]
  },
  {
   "cell_type": "markdown",
   "metadata": {},
   "source": [
    "## Load Configuration"
   ]
  },
  {
   "cell_type": "code",
   "execution_count": 2,
   "metadata": {},
   "outputs": [],
   "source": [
    "import csv\n",
    "import json\n",
    "import mysql.connector\n",
    "\n",
    "# please modify config.json to your own config file\n",
    "with open('config.json') as f:\n",
    "    config = json.load(f)\n",
    "\n",
    "host = config['host']\n",
    "user = config['user']\n",
    "passwd = config['passwd']\n",
    "OOD_path = config['OOD_path']\n",
    "test1_path = config['test1_path']\n",
    "test2_path = config['test2_path']\n",
    "test3_path = config['test3_path'] "
   ]
  },
  {
   "cell_type": "markdown",
   "metadata": {},
   "source": [
    "## Establish Connection"
   ]
  },
  {
   "cell_type": "code",
   "execution_count": 3,
   "metadata": {},
   "outputs": [],
   "source": [
    "db_config = {\n",
    "    'host': host,\n",
    "    'user': user,\n",
    "    'password': passwd\n",
    "}\n",
    "\n",
    "db_conn = mysql.connector.connect(**db_config)\n",
    "cursor = db_conn.cursor()\n",
    "cursor.execute(\"CREATE DATABASE IF NOT EXISTS DBMSFinal\")\n",
    "cursor.execute(\"USE DBMSFinal\")"
   ]
  },
  {
   "cell_type": "markdown",
   "metadata": {},
   "source": [
    "## Create Database"
   ]
  },
  {
   "cell_type": "markdown",
   "metadata": {},
   "source": [
    "## Create Tables"
   ]
  },
  {
   "cell_type": "code",
   "execution_count": 4,
   "metadata": {},
   "outputs": [],
   "source": [
    "create_OOD_table_query = \"\"\"\n",
    "CREATE TABLE IF NOT EXISTS OOD (\n",
    "\tid INT PRIMARY KEY auto_increment,\n",
    "\tstep INT,\n",
    "    amount REAL,\n",
    "    oldbalanceOrg REAL,\n",
    "\tnewbalanceOrig REAL,\n",
    "    oldbalanceDest REAL,\n",
    "    newbalanceDest REAL,\n",
    "    orig_diff INT,\n",
    "    dest_diff INT,\n",
    "    surge INT,\n",
    "    freq_dest INT,\n",
    "    true_type INT\n",
    ")\n",
    "\"\"\"\n",
    "cursor.execute(create_OOD_table_query)\n",
    "\n",
    "create_test1_table_query = \"\"\"\n",
    "CREATE TABLE IF NOT EXISTS test1 (\n",
    "\tid INT PRIMARY KEY auto_increment,\n",
    "\tstep INT,\n",
    "    amount REAL,\n",
    "    oldbalanceOrg REAL,\n",
    "\tnewbalanceOrig REAL,\n",
    "    oldbalanceDest REAL,\n",
    "    newbalanceDest REAL,\n",
    "    orig_diff INT,\n",
    "    dest_diff INT,\n",
    "    surge INT,\n",
    "    freq_dest INT,\n",
    "    true_type INT\n",
    ")\n",
    "\"\"\"\n",
    "cursor.execute(create_test1_table_query)\n",
    "\n",
    "create_test2_table_query = \"\"\"\n",
    "CREATE TABLE IF NOT EXISTS test2 (\n",
    "\tid INT PRIMARY KEY auto_increment,\n",
    "\tstep INT,\n",
    "    amount REAL,\n",
    "    oldbalanceOrg REAL,\n",
    "\tnewbalanceOrig REAL,\n",
    "    oldbalanceDest REAL,\n",
    "    newbalanceDest REAL,\n",
    "    orig_diff INT,\n",
    "    dest_diff INT,\n",
    "    surge INT,\n",
    "    freq_dest INT,\n",
    "    true_type INT\n",
    ")\n",
    "\"\"\"\n",
    "cursor.execute(create_test2_table_query)\n",
    "\n",
    "create_test3_table_query = \"\"\"\n",
    "CREATE TABLE IF NOT EXISTS test3 (\n",
    "\tid INT PRIMARY KEY auto_increment,\n",
    "\tstep INT,\n",
    "    amount REAL,\n",
    "    oldbalanceOrg REAL,\n",
    "\tnewbalanceOrig REAL,\n",
    "    oldbalanceDest REAL,\n",
    "    newbalanceDest REAL,\n",
    "    orig_diff INT,\n",
    "    dest_diff INT,\n",
    "    surge INT,\n",
    "    freq_dest INT,\n",
    "    true_type INT\n",
    ")\n",
    "\"\"\"\n",
    "cursor.execute(create_test3_table_query)"
   ]
  },
  {
   "cell_type": "markdown",
   "metadata": {},
   "source": [
    "## Load CSV Files and Insert Into Tables"
   ]
  },
  {
   "cell_type": "code",
   "execution_count": 5,
   "metadata": {},
   "outputs": [],
   "source": [
    "with open(OOD_path, 'r', encoding='utf-8') as csv_file:\n",
    "    csv_reader = csv.reader(csv_file)\n",
    "    next(csv_reader)  # Skip the header row\n",
    "    for row in csv_reader:\n",
    "        # Remove spaces from column 2 (index 1 since index starts at 0)\n",
    "        row[1] = row[1].replace(\" \", \"\")\n",
    "        insert_query = \"\"\"\n",
    "        INSERT INTO OOD(step, amount, oldbalanceOrg, newbalanceOrig, oldbalanceDest, newbalanceDest, orig_diff, dest_diff, surge, freq_dest, true_type) \n",
    "        VALUES (%s, %s, %s, %s, %s, %s, %s, %s, %s, %s, %s)\n",
    "        \"\"\"\n",
    "        cursor.execute(insert_query, row)\n",
    "\n",
    "db_conn.commit()\n",
    "\n",
    "with open(test1_path, 'r', encoding='utf-8') as csv_file:\n",
    "    csv_reader = csv.reader(csv_file)\n",
    "    next(csv_reader)  # Skip the header row\n",
    "    for row in csv_reader:\n",
    "        # Remove spaces from column 2 (index 1 since index starts at 0)\n",
    "        row[1] = row[1].replace(\" \", \"\")\n",
    "        insert_query = \"\"\"\n",
    "        INSERT INTO test1(step, amount, oldbalanceOrg, newbalanceOrig, oldbalanceDest, newbalanceDest, orig_diff, dest_diff, surge, freq_dest, true_type) \n",
    "        VALUES (%s, %s, %s, %s, %s, %s, %s, %s, %s, %s, %s)\n",
    "        \"\"\"\n",
    "        cursor.execute(insert_query, row)\n",
    "\n",
    "db_conn.commit()\n",
    "\n",
    "with open(test2_path, 'r', encoding='utf-8') as csv_file:\n",
    "    csv_reader = csv.reader(csv_file)\n",
    "    next(csv_reader)  # Skip the header row\n",
    "    for row in csv_reader:\n",
    "        # Remove spaces from column 2 (index 1 since index starts at 0)\n",
    "        row[1] = row[1].replace(\" \", \"\")\n",
    "        insert_query = \"\"\"\n",
    "        INSERT INTO test2(step, amount, oldbalanceOrg, newbalanceOrig, oldbalanceDest, newbalanceDest, orig_diff, dest_diff, surge, freq_dest, true_type) \n",
    "        VALUES (%s, %s, %s, %s, %s, %s, %s, %s, %s, %s, %s)\n",
    "        \"\"\"\n",
    "        cursor.execute(insert_query, row)\n",
    "\n",
    "db_conn.commit()\n",
    "\n",
    "with open(test3_path, 'r', encoding='utf-8') as csv_file:\n",
    "    csv_reader = csv.reader(csv_file)\n",
    "    next(csv_reader)  # Skip the header row\n",
    "    for row in csv_reader:\n",
    "        # Remove spaces from column 2 (index 1 since index starts at 0)\n",
    "        row[1] = row[1].replace(\" \", \"\")\n",
    "        insert_query = \"\"\"\n",
    "        INSERT INTO test3(step, amount, oldbalanceOrg, newbalanceOrig, oldbalanceDest, newbalanceDest, orig_diff, dest_diff, surge, freq_dest, true_type) \n",
    "        VALUES (%s, %s, %s, %s, %s, %s, %s, %s, %s, %s, %s)\n",
    "        \"\"\"\n",
    "        cursor.execute(insert_query, row)\n",
    "\n",
    "db_conn.commit()"
   ]
  },
  {
   "cell_type": "markdown",
   "metadata": {},
   "source": [
    "## Close Connection"
   ]
  },
  {
   "cell_type": "code",
   "execution_count": 6,
   "metadata": {},
   "outputs": [],
   "source": [
    "db_conn.close()"
   ]
  }
 ],
 "metadata": {
  "kernelspec": {
   "display_name": "Python 3",
   "language": "python",
   "name": "python3"
  },
  "language_info": {
   "codemirror_mode": {
    "name": "ipython",
    "version": 3
   },
   "file_extension": ".py",
   "mimetype": "text/x-python",
   "name": "python",
   "nbconvert_exporter": "python",
   "pygments_lexer": "ipython3",
   "version": "3.12.3"
  }
 },
 "nbformat": 4,
 "nbformat_minor": 2
}
